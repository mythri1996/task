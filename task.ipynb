{
 "cells": [
  {
   "cell_type": "code",
   "execution_count": 46,
   "metadata": {},
   "outputs": [],
   "source": [
    "import pandas as pd\n",
    "import numpy as np\n",
    "import datetime\n",
    "import matplotlib.pyplot as plt\n",
    "import seaborn as sns"
   ]
  },
  {
   "cell_type": "code",
   "execution_count": 47,
   "metadata": {},
   "outputs": [],
   "source": [
    "agm=pd.read_csv(\"agm_file.csv\")"
   ]
  },
  {
   "cell_type": "code",
   "execution_count": 59,
   "metadata": {},
   "outputs": [
    {
     "data": {
      "text/plain": [
       "Sl no.                       0\n",
       "District Name                0\n",
       "Market Name                  0\n",
       "Commodity                    0\n",
       "Variety                      0\n",
       "Grade                        0\n",
       "Min Price (Rs./Quintal)      0\n",
       "Max Price (Rs./Quintal)      0\n",
       "Modal Price (Rs./Quintal)    0\n",
       "Price Date                   0\n",
       "dtype: int64"
      ]
     },
     "execution_count": 59,
     "metadata": {},
     "output_type": "execute_result"
    }
   ],
   "source": [
    "agm.isnull().sum()"
   ]
  },
  {
   "cell_type": "code",
   "execution_count": 49,
   "metadata": {},
   "outputs": [
    {
     "name": "stdout",
     "output_type": "stream",
     "text": [
      "<class 'pandas.core.frame.DataFrame'>\n",
      "RangeIndex: 8807 entries, 0 to 8806\n",
      "Data columns (total 10 columns):\n",
      " #   Column                     Non-Null Count  Dtype \n",
      "---  ------                     --------------  ----- \n",
      " 0   Sl no.                     8807 non-null   int64 \n",
      " 1   District Name              8807 non-null   object\n",
      " 2   Market Name                8807 non-null   object\n",
      " 3   Commodity                  8807 non-null   object\n",
      " 4   Variety                    8807 non-null   object\n",
      " 5   Grade                      8807 non-null   object\n",
      " 6   Min Price (Rs./Quintal)    8807 non-null   int64 \n",
      " 7   Max Price (Rs./Quintal)    8807 non-null   int64 \n",
      " 8   Modal Price (Rs./Quintal)  8807 non-null   int64 \n",
      " 9   Price Date                 8807 non-null   object\n",
      "dtypes: int64(4), object(6)\n",
      "memory usage: 688.2+ KB\n"
     ]
    }
   ],
   "source": [
    "agm.info()"
   ]
  },
  {
   "cell_type": "code",
   "execution_count": 50,
   "metadata": {},
   "outputs": [
    {
     "data": {
      "text/html": [
       "<div>\n",
       "<style scoped>\n",
       "    .dataframe tbody tr th:only-of-type {\n",
       "        vertical-align: middle;\n",
       "    }\n",
       "\n",
       "    .dataframe tbody tr th {\n",
       "        vertical-align: top;\n",
       "    }\n",
       "\n",
       "    .dataframe thead th {\n",
       "        text-align: right;\n",
       "    }\n",
       "</style>\n",
       "<table border=\"1\" class=\"dataframe\">\n",
       "  <thead>\n",
       "    <tr style=\"text-align: right;\">\n",
       "      <th></th>\n",
       "      <th>Sl no.</th>\n",
       "      <th>Min Price (Rs./Quintal)</th>\n",
       "      <th>Max Price (Rs./Quintal)</th>\n",
       "      <th>Modal Price (Rs./Quintal)</th>\n",
       "    </tr>\n",
       "  </thead>\n",
       "  <tbody>\n",
       "    <tr>\n",
       "      <th>Sl no.</th>\n",
       "      <td>1.000000</td>\n",
       "      <td>-0.206850</td>\n",
       "      <td>-0.213475</td>\n",
       "      <td>-0.224202</td>\n",
       "    </tr>\n",
       "    <tr>\n",
       "      <th>Min Price (Rs./Quintal)</th>\n",
       "      <td>-0.206850</td>\n",
       "      <td>1.000000</td>\n",
       "      <td>0.989387</td>\n",
       "      <td>0.958207</td>\n",
       "    </tr>\n",
       "    <tr>\n",
       "      <th>Max Price (Rs./Quintal)</th>\n",
       "      <td>-0.213475</td>\n",
       "      <td>0.989387</td>\n",
       "      <td>1.000000</td>\n",
       "      <td>0.946694</td>\n",
       "    </tr>\n",
       "    <tr>\n",
       "      <th>Modal Price (Rs./Quintal)</th>\n",
       "      <td>-0.224202</td>\n",
       "      <td>0.958207</td>\n",
       "      <td>0.946694</td>\n",
       "      <td>1.000000</td>\n",
       "    </tr>\n",
       "  </tbody>\n",
       "</table>\n",
       "</div>"
      ],
      "text/plain": [
       "                             Sl no.  Min Price (Rs./Quintal)  \\\n",
       "Sl no.                     1.000000                -0.206850   \n",
       "Min Price (Rs./Quintal)   -0.206850                 1.000000   \n",
       "Max Price (Rs./Quintal)   -0.213475                 0.989387   \n",
       "Modal Price (Rs./Quintal) -0.224202                 0.958207   \n",
       "\n",
       "                           Max Price (Rs./Quintal)  Modal Price (Rs./Quintal)  \n",
       "Sl no.                                   -0.213475                  -0.224202  \n",
       "Min Price (Rs./Quintal)                   0.989387                   0.958207  \n",
       "Max Price (Rs./Quintal)                   1.000000                   0.946694  \n",
       "Modal Price (Rs./Quintal)                 0.946694                   1.000000  "
      ]
     },
     "execution_count": 50,
     "metadata": {},
     "output_type": "execute_result"
    }
   ],
   "source": [
    "agm.corr()"
   ]
  },
  {
   "cell_type": "markdown",
   "metadata": {},
   "source": [
    "# Write a python script to fetch data of prices for the year 2020 (date wise from 1 st Jan’2020 to 31 st Dec’2020) for district “Agra” of Uttar Pradesh from the data sources\n",
    "mentioned in the data section (can take point b as a reference). Following is the\n",
    "output schema expected:"
   ]
  },
  {
   "cell_type": "markdown",
   "metadata": {},
   "source": [
    "Price Date object file to datetime"
   ]
  },
  {
   "cell_type": "code",
   "execution_count": 51,
   "metadata": {},
   "outputs": [],
   "source": [
    "agm[\"Price Date\"]=pd.to_datetime(agm[\"Price Date\"])\n"
   ]
  },
  {
   "cell_type": "code",
   "execution_count": 58,
   "metadata": {},
   "outputs": [],
   "source": [
    "agm=agm.sort_values(by=\"Price Date\")\n",
    "agm=agm[agm[\"Price Date\"].between('2020-01-01','2020-12-31')]"
   ]
  },
  {
   "cell_type": "markdown",
   "metadata": {},
   "source": [
    "# b. Identify major markets for the district “Agra” and plot price patterns for each of them. What patterns do you identify?"
   ]
  },
  {
   "cell_type": "code",
   "execution_count": null,
   "metadata": {},
   "outputs": [],
   "source": [
    "agm['Variety'].value_counts()"
   ]
  },
  {
   "cell_type": "markdown",
   "metadata": {},
   "source": [
    "here desi and local are highest counts , potato,other  are not so important"
   ]
  },
  {
   "cell_type": "code",
   "execution_count": null,
   "metadata": {},
   "outputs": [],
   "source": [
    "test=agm[0:8807]\n",
    "table = pd.pivot_table(data=agm,index='Variety',values='Modal Price (Rs./Quintal)',aggfunc=np.sum)\n",
    "table"
   ]
  },
  {
   "cell_type": "markdown",
   "metadata": {},
   "source": [
    "desi has highest modal price"
   ]
  },
  {
   "cell_type": "code",
   "execution_count": 53,
   "metadata": {},
   "outputs": [
    {
     "data": {
      "text/plain": [
       "Text(0, 0.5, 'MODAL PRICE')"
      ]
     },
     "execution_count": 53,
     "metadata": {},
     "output_type": "execute_result"
    },
    {
     "data": {
      "image/png": "[encoded data removed]",
      "text/plain": [
       "<Figure size 432x288 with 1 Axes>"
      ]
     },
     "metadata": {
      "needs_background": "light"
     },
     "output_type": "display_data"
    }
   ],
   "source": [
    "plt.bar(table.index,table['Modal Price (Rs./Quintal)'])\n",
    "plt.xlabel('Variety') \n",
    "plt.ylabel('MODAL PRICE')"
   ]
  },
  {
   "cell_type": "code",
   "execution_count": 60,
   "metadata": {},
   "outputs": [
    {
     "data": {
      "text/plain": [
       "<matplotlib.axes._subplots.AxesSubplot at 0xac07c09760>"
      ]
     },
     "execution_count": 60,
     "metadata": {},
     "output_type": "execute_result"
    },
    {
     "data": {
      "image/png": "[encoded data removed]",
      "text/plain": [
       "<Figure size 432x288 with 1 Axes>"
      ]
     },
     "metadata": {
      "needs_background": "light"
     },
     "output_type": "display_data"
    }
   ],
   "source": [
    "sns.distplot(test['Modal Price (Rs./Quintal)'], color = 'r')"
   ]
  },
  {
   "cell_type": "markdown",
   "metadata": {},
   "source": [
    "#observatin is here right skewed and most of the data concentrated inbetween 900-1500 and outlier also  there"
   ]
  },
  {
   "cell_type": "code",
   "execution_count": 55,
   "metadata": {},
   "outputs": [
    {
     "data": {
      "text/plain": [
       "Agra              1241\n",
       "Achnera           1237\n",
       "Fatehpur Sikri    1162\n",
       "Khairagarh        1145\n",
       "Jagnair           1124\n",
       "Fatehabad         1093\n",
       "Samsabad           968\n",
       "Jarar              837\n",
       "Name: Market Name, dtype: int64"
      ]
     },
     "execution_count": 55,
     "metadata": {},
     "output_type": "execute_result"
    }
   ],
   "source": [
    "df1=agm[\"Market Name\"]\n",
    "df1=pd.value_counts(agm['Market Name'],ascending= False)\n",
    "df1"
   ]
  },
  {
   "cell_type": "code",
   "execution_count": 57,
   "metadata": {},
   "outputs": [
    {
     "data": {
      "text/plain": [
       "<matplotlib.axes._subplots.AxesSubplot at 0xac07ba8880>"
      ]
     },
     "execution_count": 57,
     "metadata": {},
     "output_type": "execute_result"
    },
    {
     "data": {
      "image/png": "[encoded data removed]",
      "text/plain": [
       "<Figure size 432x288 with 1 Axes>"
      ]
     },
     "metadata": {
      "needs_background": "light"
     },
     "output_type": "display_data"
    }
   ],
   "source": [
    "df1.plot(kind='bar')"
   ]
  },
  {
   "cell_type": "markdown",
   "metadata": {},
   "source": [
    "in this diagram represting highest market is Achnera"
   ]
  },
  {
   "cell_type": "code",
   "execution_count": null,
   "metadata": {},
   "outputs": [],
   "source": []
  }
 ],
 "metadata": {
  "kernelspec": {
   "display_name": "Python 3",
   "language": "python",
   "name": "python3"
  },
  "language_info": {
   "codemirror_mode": {
    "name": "ipython",
    "version": 3
   },
   "file_extension": ".py",
   "mimetype": "text/x-python",
   "name": "python",
   "nbconvert_exporter": "python",
   "pygments_lexer": "ipython3",
   "version": "3.8.3"
  }
 },
 "nbformat": 4,
 "nbformat_minor": 2
}
