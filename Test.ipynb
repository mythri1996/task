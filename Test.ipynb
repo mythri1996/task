{
 "cells": [
  {
   "cell_type": "markdown",
   "id": "1aa0a7cc",
   "metadata": {},
   "source": [
    "MYTHRI R J\n",
    "+917026207970\n",
    "mythrijain9@gmail.com"
   ]
  },
  {
   "cell_type": "code",
   "execution_count": 37,
   "id": "43bc61b1",
   "metadata": {},
   "outputs": [],
   "source": [
    "import pandas as pd\n",
    "import pandasql as psql\n",
    "from pandasql import sqldf"
   ]
  },
  {
   "cell_type": "code",
   "execution_count": 7,
   "id": "bb4efdbc",
   "metadata": {},
   "outputs": [],
   "source": [
    "database_file = {\n",
    "    \"mesg_trn_no\":['TF1005','TF1006','TF1005','TF1005','TF1006'],\n",
    "    \"Mesg_type\":[700,710,710,707,707],\n",
    "    \"Field_code\": [50,59,59,50,59],\n",
    "    \"Field_value\": ['CVC','PVC','Mahindra','Mahindra','AVON'],\n",
    "    \"mesg_crea_date_time\": ['10/10/2020','1/09/2020','12/10/2020','12/11/2020','17/11/2020']\n",
    "}\n"
   ]
  },
  {
   "cell_type": "code",
   "execution_count": 8,
   "id": "a55d81b2",
   "metadata": {},
   "outputs": [],
   "source": [
    "df = pd.DataFrame(database_file)\n"
   ]
  },
  {
   "cell_type": "code",
   "execution_count": 9,
   "id": "1ad3593a",
   "metadata": {},
   "outputs": [],
   "source": [
    "df['mesg_crea_date_time'] = pd.to_datetime(df['mesg_crea_date_time'])\n"
   ]
  },
  {
   "cell_type": "code",
   "execution_count": 10,
   "id": "4c09a5da",
   "metadata": {},
   "outputs": [
    {
     "data": {
      "text/html": [
       "<div>\n",
       "<style scoped>\n",
       "    .dataframe tbody tr th:only-of-type {\n",
       "        vertical-align: middle;\n",
       "    }\n",
       "\n",
       "    .dataframe tbody tr th {\n",
       "        vertical-align: top;\n",
       "    }\n",
       "\n",
       "    .dataframe thead th {\n",
       "        text-align: right;\n",
       "    }\n",
       "</style>\n",
       "<table border=\"1\" class=\"dataframe\">\n",
       "  <thead>\n",
       "    <tr style=\"text-align: right;\">\n",
       "      <th></th>\n",
       "      <th>mesg_trn_no</th>\n",
       "      <th>Mesg_type</th>\n",
       "      <th>Field_code</th>\n",
       "      <th>Field_value</th>\n",
       "      <th>mesg_crea_date_time</th>\n",
       "    </tr>\n",
       "  </thead>\n",
       "  <tbody>\n",
       "    <tr>\n",
       "      <th>0</th>\n",
       "      <td>TF1005</td>\n",
       "      <td>700</td>\n",
       "      <td>50</td>\n",
       "      <td>CVC</td>\n",
       "      <td>2020-10-10</td>\n",
       "    </tr>\n",
       "    <tr>\n",
       "      <th>1</th>\n",
       "      <td>TF1006</td>\n",
       "      <td>710</td>\n",
       "      <td>59</td>\n",
       "      <td>PVC</td>\n",
       "      <td>2020-01-09</td>\n",
       "    </tr>\n",
       "    <tr>\n",
       "      <th>2</th>\n",
       "      <td>TF1005</td>\n",
       "      <td>710</td>\n",
       "      <td>59</td>\n",
       "      <td>Mahindra</td>\n",
       "      <td>2020-12-10</td>\n",
       "    </tr>\n",
       "    <tr>\n",
       "      <th>3</th>\n",
       "      <td>TF1005</td>\n",
       "      <td>707</td>\n",
       "      <td>50</td>\n",
       "      <td>Mahindra</td>\n",
       "      <td>2020-12-11</td>\n",
       "    </tr>\n",
       "    <tr>\n",
       "      <th>4</th>\n",
       "      <td>TF1006</td>\n",
       "      <td>707</td>\n",
       "      <td>59</td>\n",
       "      <td>AVON</td>\n",
       "      <td>2020-11-17</td>\n",
       "    </tr>\n",
       "  </tbody>\n",
       "</table>\n",
       "</div>"
      ],
      "text/plain": [
       "  mesg_trn_no  Mesg_type  Field_code Field_value mesg_crea_date_time\n",
       "0      TF1005        700          50         CVC          2020-10-10\n",
       "1      TF1006        710          59         PVC          2020-01-09\n",
       "2      TF1005        710          59    Mahindra          2020-12-10\n",
       "3      TF1005        707          50    Mahindra          2020-12-11\n",
       "4      TF1006        707          59        AVON          2020-11-17"
      ]
     },
     "execution_count": 10,
     "metadata": {},
     "output_type": "execute_result"
    }
   ],
   "source": [
    "df"
   ]
  },
  {
   "cell_type": "markdown",
   "id": "819ce5ff",
   "metadata": {},
   "source": [
    "Find the latest Field_value of Field_code for each mesg_trn_no\n"
   ]
  },
  {
   "cell_type": "markdown",
   "id": "3c17a747",
   "metadata": {},
   "source": [
    "Solution"
   ]
  },
  {
   "cell_type": "code",
   "execution_count": 12,
   "id": "c30c3c9a",
   "metadata": {},
   "outputs": [],
   "source": [
    "pysqldf = lambda x: sqldf(x, globals())\n"
   ]
  },
  {
   "cell_type": "code",
   "execution_count": 13,
   "id": "5b2bca73",
   "metadata": {},
   "outputs": [],
   "source": [
    "query1= \"\"\"\n",
    "        SELECT *\n",
    "        FROM(SELECT mesg_trn_no,Field_code, Field_value,mesg_crea_date_time\n",
    "            FROM df\n",
    "            ORDER BY mesg_crea_date_time DESC)\n",
    "        GROUP BY mesg_trn_no \n",
    "        \"\"\""
   ]
  },
  {
   "cell_type": "code",
   "execution_count": 14,
   "id": "4d6f6314",
   "metadata": {},
   "outputs": [
    {
     "name": "stdout",
     "output_type": "stream",
     "text": [
      "  mesg_trn_no  Field_code Field_value         mesg_crea_date_time\n",
      "0      TF1005          50    Mahindra  2020-12-11 00:00:00.000000\n",
      "1      TF1006          59        AVON  2020-11-17 00:00:00.000000\n"
     ]
    }
   ],
   "source": [
    "print(pysqldf(query1))\n"
   ]
  },
  {
   "cell_type": "markdown",
   "id": "d1f4ba73",
   "metadata": {},
   "source": [
    "2."
   ]
  },
  {
   "cell_type": "code",
   "execution_count": 15,
   "id": "e76eaec2",
   "metadata": {},
   "outputs": [],
   "source": [
    "\n",
    "database_file2 = {\n",
    "    'ID':[1002,1003,1004,1005],\n",
    "    'queuename': ['Maker','Checker','Exception','Exception'],\n",
    "    'entrydate': ['1/10/2020','2/10/2020','17/11/2020','15/11/2020']\n",
    "}"
   ]
  },
  {
   "cell_type": "code",
   "execution_count": 16,
   "id": "3d1e76d1",
   "metadata": {},
   "outputs": [],
   "source": [
    "case_details = pd.DataFrame(database_file2)\n"
   ]
  },
  {
   "cell_type": "code",
   "execution_count": 17,
   "id": "43a91a72",
   "metadata": {},
   "outputs": [],
   "source": [
    "database_file2 = {\n",
    "    'ID':['1005','1004','1004','1005'],\n",
    "    'queuename':['Exception','Exception','Exception','Exception'],\n",
    "    'exception_comment':['ID card missed','signature mismatch','ID missed','Signature mismatch'],\n",
    "    'actiondate':['4/09/2020','1/09/2020','17/11/2020','15/11/2020'] \n",
    "}\n"
   ]
  },
  {
   "cell_type": "code",
   "execution_count": 18,
   "id": "5075cbf3",
   "metadata": {},
   "outputs": [],
   "source": [
    "exceptionview = pd.DataFrame(database_file2)\n"
   ]
  },
  {
   "cell_type": "code",
   "execution_count": 19,
   "id": "be1babdb",
   "metadata": {},
   "outputs": [],
   "source": [
    "case_details['entrydate'] = pd.to_datetime(case_details['entrydate'])\n"
   ]
  },
  {
   "cell_type": "code",
   "execution_count": 20,
   "id": "2e078c29",
   "metadata": {},
   "outputs": [],
   "source": [
    "exceptionview['actiondate'] = pd.to_datetime(exceptionview['actiondate'])\n"
   ]
  },
  {
   "cell_type": "code",
   "execution_count": 21,
   "id": "c9342679",
   "metadata": {},
   "outputs": [
    {
     "data": {
      "text/html": [
       "<div>\n",
       "<style scoped>\n",
       "    .dataframe tbody tr th:only-of-type {\n",
       "        vertical-align: middle;\n",
       "    }\n",
       "\n",
       "    .dataframe tbody tr th {\n",
       "        vertical-align: top;\n",
       "    }\n",
       "\n",
       "    .dataframe thead th {\n",
       "        text-align: right;\n",
       "    }\n",
       "</style>\n",
       "<table border=\"1\" class=\"dataframe\">\n",
       "  <thead>\n",
       "    <tr style=\"text-align: right;\">\n",
       "      <th></th>\n",
       "      <th>ID</th>\n",
       "      <th>queuename</th>\n",
       "      <th>exception_comment</th>\n",
       "      <th>actiondate</th>\n",
       "    </tr>\n",
       "  </thead>\n",
       "  <tbody>\n",
       "    <tr>\n",
       "      <th>0</th>\n",
       "      <td>1005</td>\n",
       "      <td>Exception</td>\n",
       "      <td>ID card missed</td>\n",
       "      <td>2020-04-09</td>\n",
       "    </tr>\n",
       "    <tr>\n",
       "      <th>1</th>\n",
       "      <td>1004</td>\n",
       "      <td>Exception</td>\n",
       "      <td>signature mismatch</td>\n",
       "      <td>2020-01-09</td>\n",
       "    </tr>\n",
       "    <tr>\n",
       "      <th>2</th>\n",
       "      <td>1004</td>\n",
       "      <td>Exception</td>\n",
       "      <td>ID missed</td>\n",
       "      <td>2020-11-17</td>\n",
       "    </tr>\n",
       "    <tr>\n",
       "      <th>3</th>\n",
       "      <td>1005</td>\n",
       "      <td>Exception</td>\n",
       "      <td>Signature mismatch</td>\n",
       "      <td>2020-11-15</td>\n",
       "    </tr>\n",
       "  </tbody>\n",
       "</table>\n",
       "</div>"
      ],
      "text/plain": [
       "     ID  queuename   exception_comment actiondate\n",
       "0  1005  Exception      ID card missed 2020-04-09\n",
       "1  1004  Exception  signature mismatch 2020-01-09\n",
       "2  1004  Exception           ID missed 2020-11-17\n",
       "3  1005  Exception  Signature mismatch 2020-11-15"
      ]
     },
     "execution_count": 21,
     "metadata": {},
     "output_type": "execute_result"
    }
   ],
   "source": [
    "exceptionview\n"
   ]
  },
  {
   "cell_type": "code",
   "execution_count": 22,
   "id": "f1b49e86",
   "metadata": {},
   "outputs": [
    {
     "data": {
      "text/html": [
       "<div>\n",
       "<style scoped>\n",
       "    .dataframe tbody tr th:only-of-type {\n",
       "        vertical-align: middle;\n",
       "    }\n",
       "\n",
       "    .dataframe tbody tr th {\n",
       "        vertical-align: top;\n",
       "    }\n",
       "\n",
       "    .dataframe thead th {\n",
       "        text-align: right;\n",
       "    }\n",
       "</style>\n",
       "<table border=\"1\" class=\"dataframe\">\n",
       "  <thead>\n",
       "    <tr style=\"text-align: right;\">\n",
       "      <th></th>\n",
       "      <th>ID</th>\n",
       "      <th>queuename</th>\n",
       "      <th>entrydate</th>\n",
       "    </tr>\n",
       "  </thead>\n",
       "  <tbody>\n",
       "    <tr>\n",
       "      <th>0</th>\n",
       "      <td>1002</td>\n",
       "      <td>Maker</td>\n",
       "      <td>2020-01-10</td>\n",
       "    </tr>\n",
       "    <tr>\n",
       "      <th>1</th>\n",
       "      <td>1003</td>\n",
       "      <td>Checker</td>\n",
       "      <td>2020-02-10</td>\n",
       "    </tr>\n",
       "    <tr>\n",
       "      <th>2</th>\n",
       "      <td>1004</td>\n",
       "      <td>Exception</td>\n",
       "      <td>2020-11-17</td>\n",
       "    </tr>\n",
       "    <tr>\n",
       "      <th>3</th>\n",
       "      <td>1005</td>\n",
       "      <td>Exception</td>\n",
       "      <td>2020-11-15</td>\n",
       "    </tr>\n",
       "  </tbody>\n",
       "</table>\n",
       "</div>"
      ],
      "text/plain": [
       "     ID  queuename  entrydate\n",
       "0  1002      Maker 2020-01-10\n",
       "1  1003    Checker 2020-02-10\n",
       "2  1004  Exception 2020-11-17\n",
       "3  1005  Exception 2020-11-15"
      ]
     },
     "execution_count": 22,
     "metadata": {},
     "output_type": "execute_result"
    }
   ],
   "source": [
    "case_details"
   ]
  },
  {
   "cell_type": "markdown",
   "id": "cf88af10",
   "metadata": {},
   "source": [
    "Solution"
   ]
  },
  {
   "cell_type": "code",
   "execution_count": 32,
   "id": "036ff1f9",
   "metadata": {},
   "outputs": [],
   "source": [
    "query2 = \"\"\"\n",
    "        SELECT ID,queuename,COALESCE(exception_comment,'NA') AS exception_comment ,entrydate\n",
    "        \n",
    "        FROM (SELECT *\n",
    "        FROM case_details\n",
    "        LEFT JOIN exceptionview ON case_details.entrydate= exceptionview.actiondate\n",
    "        ORDER BY case_details.ID DESC) AS join_table\n",
    "        \"\"\"\n"
   ]
  },
  {
   "cell_type": "code",
   "execution_count": 33,
   "id": "6e306cab",
   "metadata": {},
   "outputs": [
    {
     "data": {
      "text/html": [
       "<div>\n",
       "<style scoped>\n",
       "    .dataframe tbody tr th:only-of-type {\n",
       "        vertical-align: middle;\n",
       "    }\n",
       "\n",
       "    .dataframe tbody tr th {\n",
       "        vertical-align: top;\n",
       "    }\n",
       "\n",
       "    .dataframe thead th {\n",
       "        text-align: right;\n",
       "    }\n",
       "</style>\n",
       "<table border=\"1\" class=\"dataframe\">\n",
       "  <thead>\n",
       "    <tr style=\"text-align: right;\">\n",
       "      <th></th>\n",
       "      <th>ID</th>\n",
       "      <th>queuename</th>\n",
       "      <th>exception_comment</th>\n",
       "      <th>entrydate</th>\n",
       "    </tr>\n",
       "  </thead>\n",
       "  <tbody>\n",
       "    <tr>\n",
       "      <th>0</th>\n",
       "      <td>1005</td>\n",
       "      <td>Exception</td>\n",
       "      <td>Signature mismatch</td>\n",
       "      <td>2020-11-15 00:00:00.000000</td>\n",
       "    </tr>\n",
       "    <tr>\n",
       "      <th>1</th>\n",
       "      <td>1004</td>\n",
       "      <td>Exception</td>\n",
       "      <td>ID missed</td>\n",
       "      <td>2020-11-17 00:00:00.000000</td>\n",
       "    </tr>\n",
       "    <tr>\n",
       "      <th>2</th>\n",
       "      <td>1003</td>\n",
       "      <td>Checker</td>\n",
       "      <td>NA</td>\n",
       "      <td>2020-02-10 00:00:00.000000</td>\n",
       "    </tr>\n",
       "    <tr>\n",
       "      <th>3</th>\n",
       "      <td>1002</td>\n",
       "      <td>Maker</td>\n",
       "      <td>NA</td>\n",
       "      <td>2020-01-10 00:00:00.000000</td>\n",
       "    </tr>\n",
       "  </tbody>\n",
       "</table>\n",
       "</div>"
      ],
      "text/plain": [
       "     ID  queuename   exception_comment                   entrydate\n",
       "0  1005  Exception  Signature mismatch  2020-11-15 00:00:00.000000\n",
       "1  1004  Exception           ID missed  2020-11-17 00:00:00.000000\n",
       "2  1003    Checker                  NA  2020-02-10 00:00:00.000000\n",
       "3  1002      Maker                  NA  2020-01-10 00:00:00.000000"
      ]
     },
     "execution_count": 33,
     "metadata": {},
     "output_type": "execute_result"
    }
   ],
   "source": [
    "pysqldf(query2)\n"
   ]
  },
  {
   "cell_type": "markdown",
   "id": "af968104",
   "metadata": {},
   "source": [
    "3.Question"
   ]
  },
  {
   "cell_type": "code",
   "execution_count": 34,
   "id": "4e974aaf",
   "metadata": {},
   "outputs": [],
   "source": [
    "database_file4 = {\n",
    "    'cif_no':['068974561','067897945','052345689'],\n",
    "    'Debit_card':['123456768989','560889767867','454578982324']\n",
    "}"
   ]
  },
  {
   "cell_type": "code",
   "execution_count": 35,
   "id": "77e356fd",
   "metadata": {},
   "outputs": [],
   "source": [
    "MyTable = pd.DataFrame(database_file4)\n"
   ]
  },
  {
   "cell_type": "code",
   "execution_count": 36,
   "id": "cf7c2e74",
   "metadata": {},
   "outputs": [
    {
     "data": {
      "text/html": [
       "<div>\n",
       "<style scoped>\n",
       "    .dataframe tbody tr th:only-of-type {\n",
       "        vertical-align: middle;\n",
       "    }\n",
       "\n",
       "    .dataframe tbody tr th {\n",
       "        vertical-align: top;\n",
       "    }\n",
       "\n",
       "    .dataframe thead th {\n",
       "        text-align: right;\n",
       "    }\n",
       "</style>\n",
       "<table border=\"1\" class=\"dataframe\">\n",
       "  <thead>\n",
       "    <tr style=\"text-align: right;\">\n",
       "      <th></th>\n",
       "      <th>cif_no</th>\n",
       "      <th>Debit_card</th>\n",
       "    </tr>\n",
       "  </thead>\n",
       "  <tbody>\n",
       "    <tr>\n",
       "      <th>0</th>\n",
       "      <td>068974561</td>\n",
       "      <td>123456768989</td>\n",
       "    </tr>\n",
       "    <tr>\n",
       "      <th>1</th>\n",
       "      <td>067897945</td>\n",
       "      <td>560889767867</td>\n",
       "    </tr>\n",
       "    <tr>\n",
       "      <th>2</th>\n",
       "      <td>052345689</td>\n",
       "      <td>454578982324</td>\n",
       "    </tr>\n",
       "  </tbody>\n",
       "</table>\n",
       "</div>"
      ],
      "text/plain": [
       "      cif_no    Debit_card\n",
       "0  068974561  123456768989\n",
       "1  067897945  560889767867\n",
       "2  052345689  454578982324"
      ]
     },
     "execution_count": 36,
     "metadata": {},
     "output_type": "execute_result"
    }
   ],
   "source": [
    "MyTable"
   ]
  },
  {
   "cell_type": "markdown",
   "id": "292e401d",
   "metadata": {},
   "source": [
    "#solution 3rd question"
   ]
  },
  {
   "cell_type": "code",
   "execution_count": 27,
   "id": "56eecfa4",
   "metadata": {},
   "outputs": [],
   "source": [
    "query3= \"\"\"\n",
    "    SELECT Substr(Debit_card,1,4)||'XXXX' ||Substr(Debit_card,-4) as debit_card_No\n",
    "    FROM MyTable\n",
    "   \"\"\""
   ]
  },
  {
   "cell_type": "code",
   "execution_count": 28,
   "id": "4fbccea2",
   "metadata": {},
   "outputs": [
    {
     "data": {
      "text/html": [
       "<div>\n",
       "<style scoped>\n",
       "    .dataframe tbody tr th:only-of-type {\n",
       "        vertical-align: middle;\n",
       "    }\n",
       "\n",
       "    .dataframe tbody tr th {\n",
       "        vertical-align: top;\n",
       "    }\n",
       "\n",
       "    .dataframe thead th {\n",
       "        text-align: right;\n",
       "    }\n",
       "</style>\n",
       "<table border=\"1\" class=\"dataframe\">\n",
       "  <thead>\n",
       "    <tr style=\"text-align: right;\">\n",
       "      <th></th>\n",
       "      <th>debit_card_No</th>\n",
       "    </tr>\n",
       "  </thead>\n",
       "  <tbody>\n",
       "    <tr>\n",
       "      <th>0</th>\n",
       "      <td>1234XXXX8989</td>\n",
       "    </tr>\n",
       "    <tr>\n",
       "      <th>1</th>\n",
       "      <td>5608XXXX7867</td>\n",
       "    </tr>\n",
       "    <tr>\n",
       "      <th>2</th>\n",
       "      <td>4545XXXX2324</td>\n",
       "    </tr>\n",
       "  </tbody>\n",
       "</table>\n",
       "</div>"
      ],
      "text/plain": [
       "  debit_card_No\n",
       "0  1234XXXX8989\n",
       "1  5608XXXX7867\n",
       "2  4545XXXX2324"
      ]
     },
     "execution_count": 28,
     "metadata": {},
     "output_type": "execute_result"
    }
   ],
   "source": [
    "pysqldf(query3)\n"
   ]
  },
  {
   "cell_type": "code",
   "execution_count": null,
   "id": "87bbb42f",
   "metadata": {},
   "outputs": [],
   "source": []
  }
 ],
 "metadata": {
  "kernelspec": {
   "display_name": "Python 3",
   "language": "python",
   "name": "python3"
  },
  "language_info": {
   "codemirror_mode": {
    "name": "ipython",
    "version": 3
   },
   "file_extension": ".py",
   "mimetype": "text/x-python",
   "name": "python",
   "nbconvert_exporter": "python",
   "pygments_lexer": "ipython3",
   "version": "3.9.4"
  }
 },
 "nbformat": 4,
 "nbformat_minor": 5
}
